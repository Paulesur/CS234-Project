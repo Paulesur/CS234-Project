{
 "cells": [
  {
   "cell_type": "code",
   "execution_count": null,
   "metadata": {},
   "outputs": [],
   "source": [
    "%matplotlib inline\n",
    "%load_ext autoreload\n",
    "%autoreload 2"
   ]
  },
  {
   "cell_type": "code",
   "execution_count": null,
   "metadata": {},
   "outputs": [],
   "source": [
    "import numpy as np\n",
    "\n",
    "import matplotlib.pyplot as plt\n",
    "import pandas as pd\n",
    "import viz\n",
    "\n",
    "COLORS, PAGE_WIDTH, ROW_HEIGHT = viz.set_plots()"
   ]
  },
  {
   "cell_type": "code",
   "execution_count": null,
   "metadata": {},
   "outputs": [],
   "source": [
    "def rolling_mean(data, window_size):\n",
    "    return np.convolve(data, np.ones(window_size) / window_size, mode=\"valid\")\n",
    "\n",
    "\n",
    "def rolling_min(data, window_size):\n",
    "    return np.array(\n",
    "        [np.min(data[i : i + window_size]) for i in range(len(data) - window_size + 1)]\n",
    "    )\n",
    "\n",
    "\n",
    "def rolling_max(data, window_size):\n",
    "    return np.array(\n",
    "        [np.max(data[i : i + window_size]) for i in range(len(data) - window_size + 1)]\n",
    "    )"
   ]
  },
  {
   "cell_type": "code",
   "execution_count": null,
   "metadata": {},
   "outputs": [],
   "source": [
    "dqn_rewards = np.load(\"DQNResults/dqn_rewards.npy\")\n",
    "pg_rewards = np.load(\"PGResults/pg_rewards.npy\")\n",
    "ppo_rewards = np.load(\"PPOResults/ppo_rewards.npy\")\n",
    "sac_rewards = np.load(\"SACResults/sac_rewards.npy\")"
   ]
  },
  {
   "cell_type": "code",
   "execution_count": null,
   "metadata": {},
   "outputs": [],
   "source": [
    "window_size_min_max = 5\n",
    "window_size_mean = 10\n",
    "\n",
    "f, ax = plt.subplots(1, 1, figsize=(PAGE_WIDTH, ROW_HEIGHT))\n",
    "\n",
    "ax.plot(rolling_mean(dqn_rewards, window_size_mean), label=\"DQN\")\n",
    "ax.fill_between(\n",
    "    range(len(rolling_min(dqn_rewards, window_size_min_max))),\n",
    "    rolling_min(dqn_rewards, window_size_min_max),\n",
    "    rolling_max(dqn_rewards, window_size_min_max),\n",
    "    alpha=0.2,\n",
    ")\n",
    "ax.plot(rolling_mean(pg_rewards, window_size_mean), label=\"PG\")\n",
    "ax.fill_between(\n",
    "    range(len(rolling_min(pg_rewards, window_size_min_max))),\n",
    "    rolling_min(pg_rewards, window_size_min_max),\n",
    "    rolling_max(pg_rewards, window_size_min_max),\n",
    "    alpha=0.2,\n",
    ")\n",
    "ax.plot(rolling_mean(ppo_rewards, window_size_mean), label=\"PPO\")\n",
    "ax.fill_between(\n",
    "    range(len(rolling_min(ppo_rewards, window_size_min_max))),\n",
    "    rolling_min(ppo_rewards, window_size_min_max),\n",
    "    rolling_max(ppo_rewards, window_size_min_max),\n",
    "    alpha=0.2,\n",
    ")\n",
    "ax.plot(rolling_mean(sac_rewards, window_size_mean), label=\"SAC\")\n",
    "ax.fill_between(\n",
    "    range(len(rolling_min(sac_rewards, window_size_min_max))),\n",
    "    rolling_min(sac_rewards, window_size_min_max),\n",
    "    rolling_max(sac_rewards, window_size_min_max),\n",
    "    alpha=0.2,\n",
    ")\n",
    "ax.set_xlabel(\"Episode\")\n",
    "ax.set_ylabel(\"Reward\")\n",
    "ax.set_title(\"Training Rewards\")\n",
    "ax.legend(loc=\"lower right\")\n",
    "plt.tight_layout()\n",
    "plt.show()"
   ]
  },
  {
   "cell_type": "code",
   "execution_count": null,
   "metadata": {},
   "outputs": [],
   "source": []
  }
 ],
 "metadata": {
  "kernelspec": {
   "display_name": "RA_bis",
   "language": "python",
   "name": "python3"
  },
  "language_info": {
   "codemirror_mode": {
    "name": "ipython",
    "version": 3
   },
   "file_extension": ".py",
   "mimetype": "text/x-python",
   "name": "python",
   "nbconvert_exporter": "python",
   "pygments_lexer": "ipython3",
   "version": "3.11.6"
  }
 },
 "nbformat": 4,
 "nbformat_minor": 2
}
