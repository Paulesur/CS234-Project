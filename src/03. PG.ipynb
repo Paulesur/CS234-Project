{
 "cells": [
  {
   "cell_type": "code",
   "execution_count": null,
   "metadata": {},
   "outputs": [],
   "source": [
    "%matplotlib inline\n",
    "%load_ext autoreload\n",
    "%autoreload 2"
   ]
  },
  {
   "cell_type": "code",
   "execution_count": null,
   "metadata": {},
   "outputs": [],
   "source": [
    "import numpy as np\n",
    "import pandas as pd\n",
    "from pgRun import main as pgMain\n",
    "import matplotlib.pyplot as plt\n",
    "import viz\n",
    "\n",
    "COLORS, PAGE_WIDTH, ROW_HEIGHT = viz.set_plots()\n",
    "\n",
    "\n",
    "def rolling_mean(data, window_size):\n",
    "    return np.convolve(data, np.ones(window_size) / window_size, mode=\"valid\")"
   ]
  },
  {
   "cell_type": "code",
   "execution_count": null,
   "metadata": {},
   "outputs": [],
   "source": [
    "prices = pd.read_csv(\"../data/prices.csv\", index_col=0, parse_dates=True)\n",
    "prices2023 = prices.loc[f\"2023-01-01\":f\"2023-01-31\"].lmp"
   ]
  },
  {
   "cell_type": "code",
   "execution_count": null,
   "metadata": {},
   "outputs": [],
   "source": [
    "f, ax = plt.subplots(1, 1, figsize=(PAGE_WIDTH, ROW_HEIGHT))\n",
    "prices2023.plot(ax=ax)\n",
    "ax.set_title(\"2023 LMP\")\n",
    "ax.set_ylabel(\"LMP ($/MWh)\")\n",
    "plt.show()"
   ]
  },
  {
   "cell_type": "code",
   "execution_count": null,
   "metadata": {},
   "outputs": [],
   "source": [
    "pgMain(nYears=None, nMonths=10, month=[1], test=1, NEpisodes=10, num_batches=300)  # 300"
   ]
  },
  {
   "cell_type": "code",
   "execution_count": null,
   "metadata": {},
   "outputs": [],
   "source": [
    "losses = np.load(\"PGResults/pg_losses.npy\")\n",
    "\n",
    "f, ax = plt.subplots(1, 1, figsize=(PAGE_WIDTH, ROW_HEIGHT))\n",
    "ax.plot(losses, label=\"Loss\")\n",
    "ax.plot(rolling_mean(losses, 20), label=\"Rolling Mean\")\n",
    "ax.set_title(\"PG Training losses\")\n",
    "ax.set_xlabel(\"Epoch\")\n",
    "ax.set_ylabel(\"Loss\")\n",
    "plt.tight_layout()\n",
    "f.savefig(\"PGResults/pg_losses.png\")\n",
    "plt.show()"
   ]
  },
  {
   "cell_type": "code",
   "execution_count": null,
   "metadata": {},
   "outputs": [],
   "source": [
    "rewards = np.load(\"PGResults/pg_rewards.npy\")\n",
    "\n",
    "f, ax = plt.subplots(1, 1, figsize=(PAGE_WIDTH, ROW_HEIGHT))\n",
    "ax.plot(rewards, label=\"Loss\")\n",
    "ax.plot(rolling_mean(rewards, 20), label=\"Rolling Mean\")\n",
    "ax.set_title(\"PG Training Rewards\")\n",
    "ax.set_xlabel(\"Epoch\")\n",
    "ax.set_ylabel(\"Loss\")\n",
    "plt.tight_layout()\n",
    "f.savefig(\"PGResults/pg_rewards.png\")\n",
    "plt.show()"
   ]
  },
  {
   "cell_type": "code",
   "execution_count": null,
   "metadata": {},
   "outputs": [],
   "source": [
    "history = pd.read_csv(\"PGResults/pg_history.csv\", index_col=0, parse_dates=True)\n",
    "\n",
    "START, END = \"2023-01-01\", \"2023-01-31\"\n",
    "\n",
    "viz.plotOperations(history, START, END, save_path=\"PGResults/policy.png\")"
   ]
  },
  {
   "cell_type": "code",
   "execution_count": null,
   "metadata": {},
   "outputs": [],
   "source": [
    "from policy_gradient import PolicyGradient\n",
    "from tqdm import tqdm\n",
    "\n",
    "rewards = []\n",
    "max_power = []\n",
    "for _ in tqdm(range(100)):\n",
    "    PG = PolicyGradient([], 0, 0)\n",
    "    pricesTest = pd.concat([prices2023[-4:], prices2023])\n",
    "    history = PG.test(pricesTest)\n",
    "    rewards.append(history.reward.sum())\n",
    "    max_power.append(history.load.max())\n",
    "    # print(history.reward.sum())\n",
    "\n",
    "print(\"Reward Metrics: \", np.mean(rewards), \"$\")\n",
    "print(\"Max Power Metrics: \", np.mean(max_power), \"MW\")"
   ]
  },
  {
   "cell_type": "code",
   "execution_count": null,
   "metadata": {},
   "outputs": [],
   "source": []
  }
 ],
 "metadata": {
  "kernelspec": {
   "display_name": "RA_bis",
   "language": "python",
   "name": "python3"
  },
  "language_info": {
   "codemirror_mode": {
    "name": "ipython",
    "version": 3
   },
   "file_extension": ".py",
   "mimetype": "text/x-python",
   "name": "python",
   "nbconvert_exporter": "python",
   "pygments_lexer": "ipython3",
   "version": "3.11.6"
  }
 },
 "nbformat": 4,
 "nbformat_minor": 2
}
