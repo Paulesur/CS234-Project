{
 "cells": [
  {
   "cell_type": "code",
   "execution_count": 1,
   "metadata": {},
   "outputs": [],
   "source": [
    "%matplotlib inline\n",
    "%load_ext autoreload\n",
    "%autoreload 2"
   ]
  },
  {
   "cell_type": "code",
   "execution_count": 2,
   "metadata": {},
   "outputs": [],
   "source": [
    "import greedyPolicy as gp\n",
    "import numpy as np\n",
    "import matplotlib.pyplot as plt\n",
    "import pandas as pd\n",
    "import viz\n",
    "\n",
    "COLORS, PAGE_WIDTH, ROW_HEIGHT = viz.set_plots()"
   ]
  },
  {
   "cell_type": "code",
   "execution_count": 54,
   "metadata": {},
   "outputs": [],
   "source": [
    "prices = pd.read_csv('../data/prices.csv', index_col=0, parse_dates=True)"
   ]
  },
  {
   "cell_type": "code",
   "execution_count": 56,
   "metadata": {},
   "outputs": [],
   "source": [
    "START = '2020-01-02'\n",
    "END = '2020-01-03'\n",
    "prices = prices.loc[prices.index.year<=2024]"
   ]
  },
  {
   "cell_type": "code",
   "execution_count": 46,
   "metadata": {},
   "outputs": [
    {
     "name": "stderr",
     "output_type": "stream",
     "text": [
      "/var/folders/q2/_lc1j3gn4j7gxx8rkyz9mfvr0000gn/T/ipykernel_46389/2865126262.py:1: FutureWarning: 'T' is deprecated and will be removed in a future version, please use 'min' instead.\n",
      "  date_rng = pd.date_range(start=\"2020-01-01\", end=\"2024-12-31\", freq=\"15T\", tz=\"UTC\")\n"
     ]
    }
   ],
   "source": [
    "date_rng = pd.date_range(start=\"2020-01-01\", end=\"2024-12-31\", freq=\"15T\", tz=\"UTC\")  \n"
   ]
  },
  {
   "cell_type": "code",
   "execution_count": 49,
   "metadata": {},
   "outputs": [
    {
     "data": {
      "text/plain": [
       "DatetimeIndex(['2020-01-01 00:00:00+00:00', '2020-01-01 00:15:00+00:00',\n",
       "               '2020-01-01 00:30:00+00:00', '2020-01-01 00:45:00+00:00',\n",
       "               '2020-01-01 01:00:00+00:00', '2020-01-01 01:15:00+00:00',\n",
       "               '2020-01-01 01:30:00+00:00', '2020-01-01 01:45:00+00:00',\n",
       "               '2020-01-01 02:00:00+00:00', '2020-01-01 02:15:00+00:00',\n",
       "               ...\n",
       "               '2024-12-29 10:45:00+00:00', '2024-12-29 11:00:00+00:00',\n",
       "               '2024-12-29 11:15:00+00:00', '2024-12-29 11:30:00+00:00',\n",
       "               '2024-12-29 11:45:00+00:00', '2024-12-29 12:00:00+00:00',\n",
       "               '2024-12-29 12:15:00+00:00', '2024-12-29 12:30:00+00:00',\n",
       "               '2024-12-29 12:45:00+00:00', '2024-12-29 13:00:00+00:00'],\n",
       "              dtype='datetime64[ns, UTC]', length=175157, freq='15min')"
      ]
     },
     "execution_count": 49,
     "metadata": {},
     "output_type": "execute_result"
    }
   ],
   "source": [
    "date_rng[:len(prices)]"
   ]
  },
  {
   "cell_type": "code",
   "execution_count": 50,
   "metadata": {},
   "outputs": [],
   "source": [
    "prices.index = date_rng[:len(prices)]"
   ]
  },
  {
   "cell_type": "code",
   "execution_count": 51,
   "metadata": {},
   "outputs": [
    {
     "data": {
      "text/plain": [
       "2020-01-01 00:00:00+00:00    26.22619\n",
       "2020-01-01 00:15:00+00:00    25.55045\n",
       "2020-01-01 00:30:00+00:00    24.56864\n",
       "2020-01-01 00:45:00+00:00    23.06088\n",
       "2020-01-01 01:00:00+00:00    26.46082\n",
       "                               ...   \n",
       "2024-12-29 12:00:00+00:00    64.73957\n",
       "2024-12-29 12:15:00+00:00    69.48322\n",
       "2024-12-29 12:30:00+00:00    64.10383\n",
       "2024-12-29 12:45:00+00:00    63.72686\n",
       "2024-12-29 13:00:00+00:00    61.62413\n",
       "Freq: 15min, Name: lmp, Length: 175157, dtype: float64"
      ]
     },
     "execution_count": 51,
     "metadata": {},
     "output_type": "execute_result"
    }
   ],
   "source": [
    "prices"
   ]
  },
  {
   "cell_type": "code",
   "execution_count": 53,
   "metadata": {},
   "outputs": [],
   "source": [
    "prices.to_csv('../data/prices.csv')"
   ]
  },
  {
   "cell_type": "code",
   "execution_count": 6,
   "metadata": {},
   "outputs": [
    {
     "name": "stderr",
     "output_type": "stream",
     "text": [
      "  0%|          | 0/360 [00:00<?, ?it/s]/Users/paullesur/Desktop/CS234-Project/src/station.py:125: FutureWarning: The behavior of array concatenation with empty entries is deprecated. In a future version, this will no longer exclude empty items when determining the result dtype. To retain the old behavior, exclude the empty entries before the concat operation.\n",
      "  self.history = pd.concat([self.history, newRow])\n",
      "/Users/paullesur/Desktop/CS234-Project/src/station.py:125: FutureWarning: The behavior of DataFrame concatenation with empty or all-NA entries is deprecated. In a future version, this will no longer exclude empty or all-NA columns when determining the result dtypes. To retain the old behavior, exclude the relevant entries before the concat operation.\n",
      "  self.history = pd.concat([self.history, newRow])\n",
      " 21%|██        | 76/360 [00:00<00:00, 757.76it/s]/Users/paullesur/Desktop/CS234-Project/src/station.py:98: FutureWarning: The behavior of array concatenation with empty entries is deprecated. In a future version, this will no longer exclude empty items when determining the result dtype. To retain the old behavior, exclude the empty entries before the concat operation.\n",
      "  self.historyEVs = pd.concat([self.historyEVs, newRow])\n",
      "/Users/paullesur/Desktop/CS234-Project/src/station.py:98: FutureWarning: The behavior of DataFrame concatenation with empty or all-NA entries is deprecated. In a future version, this will no longer exclude empty or all-NA columns when determining the result dtypes. To retain the old behavior, exclude the relevant entries before the concat operation.\n",
      "  self.historyEVs = pd.concat([self.historyEVs, newRow])\n",
      "100%|██████████| 360/360 [00:00<00:00, 740.97it/s]\n"
     ]
    }
   ],
   "source": [
    "test = prices.iloc[:360*1].lmp\n",
    "greadyTest = gp.GreedyPolicy(test)\n",
    "df = greadyTest.run()"
   ]
  },
  {
   "cell_type": "code",
   "execution_count": 60,
   "metadata": {},
   "outputs": [],
   "source": [
    "a = pd.read_csv(\"greedy_policy.csv\")"
   ]
  },
  {
   "cell_type": "code",
   "execution_count": 61,
   "metadata": {},
   "outputs": [
    {
     "data": {
      "text/html": [
       "<div>\n",
       "<style scoped>\n",
       "    .dataframe tbody tr th:only-of-type {\n",
       "        vertical-align: middle;\n",
       "    }\n",
       "\n",
       "    .dataframe tbody tr th {\n",
       "        vertical-align: top;\n",
       "    }\n",
       "\n",
       "    .dataframe thead th {\n",
       "        text-align: right;\n",
       "    }\n",
       "</style>\n",
       "<table border=\"1\" class=\"dataframe\">\n",
       "  <thead>\n",
       "    <tr style=\"text-align: right;\">\n",
       "      <th></th>\n",
       "      <th>Unnamed: 0</th>\n",
       "      <th>time</th>\n",
       "      <th>SOC</th>\n",
       "      <th>load</th>\n",
       "      <th>cost</th>\n",
       "      <th>newEVs</th>\n",
       "    </tr>\n",
       "  </thead>\n",
       "  <tbody>\n",
       "    <tr>\n",
       "      <th>0</th>\n",
       "      <td>0</td>\n",
       "      <td>0</td>\n",
       "      <td>0.062500</td>\n",
       "      <td>0.100000</td>\n",
       "      <td>NaN</td>\n",
       "      <td>0</td>\n",
       "    </tr>\n",
       "    <tr>\n",
       "      <th>1</th>\n",
       "      <td>1</td>\n",
       "      <td>1</td>\n",
       "      <td>0.125000</td>\n",
       "      <td>0.100000</td>\n",
       "      <td>NaN</td>\n",
       "      <td>0</td>\n",
       "    </tr>\n",
       "    <tr>\n",
       "      <th>2</th>\n",
       "      <td>2</td>\n",
       "      <td>2</td>\n",
       "      <td>0.187500</td>\n",
       "      <td>0.100000</td>\n",
       "      <td>NaN</td>\n",
       "      <td>0</td>\n",
       "    </tr>\n",
       "    <tr>\n",
       "      <th>3</th>\n",
       "      <td>3</td>\n",
       "      <td>3</td>\n",
       "      <td>0.250000</td>\n",
       "      <td>0.100000</td>\n",
       "      <td>NaN</td>\n",
       "      <td>0</td>\n",
       "    </tr>\n",
       "    <tr>\n",
       "      <th>4</th>\n",
       "      <td>4</td>\n",
       "      <td>4</td>\n",
       "      <td>0.312500</td>\n",
       "      <td>0.100000</td>\n",
       "      <td>NaN</td>\n",
       "      <td>0</td>\n",
       "    </tr>\n",
       "    <tr>\n",
       "      <th>...</th>\n",
       "      <td>...</td>\n",
       "      <td>...</td>\n",
       "      <td>...</td>\n",
       "      <td>...</td>\n",
       "      <td>...</td>\n",
       "      <td>...</td>\n",
       "    </tr>\n",
       "    <tr>\n",
       "      <th>283</th>\n",
       "      <td>283</td>\n",
       "      <td>283</td>\n",
       "      <td>0.899188</td>\n",
       "      <td>0.100000</td>\n",
       "      <td>NaN</td>\n",
       "      <td>59</td>\n",
       "    </tr>\n",
       "    <tr>\n",
       "      <th>284</th>\n",
       "      <td>284</td>\n",
       "      <td>284</td>\n",
       "      <td>0.961688</td>\n",
       "      <td>0.100000</td>\n",
       "      <td>NaN</td>\n",
       "      <td>59</td>\n",
       "    </tr>\n",
       "    <tr>\n",
       "      <th>285</th>\n",
       "      <td>285</td>\n",
       "      <td>285</td>\n",
       "      <td>1.000000</td>\n",
       "      <td>0.061299</td>\n",
       "      <td>NaN</td>\n",
       "      <td>59</td>\n",
       "    </tr>\n",
       "    <tr>\n",
       "      <th>286</th>\n",
       "      <td>286</td>\n",
       "      <td>286</td>\n",
       "      <td>1.000000</td>\n",
       "      <td>0.000000</td>\n",
       "      <td>NaN</td>\n",
       "      <td>60</td>\n",
       "    </tr>\n",
       "    <tr>\n",
       "      <th>287</th>\n",
       "      <td>287</td>\n",
       "      <td>287</td>\n",
       "      <td>0.937500</td>\n",
       "      <td>0.001417</td>\n",
       "      <td>NaN</td>\n",
       "      <td>60</td>\n",
       "    </tr>\n",
       "  </tbody>\n",
       "</table>\n",
       "<p>288 rows × 6 columns</p>\n",
       "</div>"
      ],
      "text/plain": [
       "     Unnamed: 0  time       SOC      load  cost  newEVs\n",
       "0             0     0  0.062500  0.100000   NaN       0\n",
       "1             1     1  0.125000  0.100000   NaN       0\n",
       "2             2     2  0.187500  0.100000   NaN       0\n",
       "3             3     3  0.250000  0.100000   NaN       0\n",
       "4             4     4  0.312500  0.100000   NaN       0\n",
       "..          ...   ...       ...       ...   ...     ...\n",
       "283         283   283  0.899188  0.100000   NaN      59\n",
       "284         284   284  0.961688  0.100000   NaN      59\n",
       "285         285   285  1.000000  0.061299   NaN      59\n",
       "286         286   286  1.000000  0.000000   NaN      60\n",
       "287         287   287  0.937500  0.001417   NaN      60\n",
       "\n",
       "[288 rows x 6 columns]"
      ]
     },
     "execution_count": 61,
     "metadata": {},
     "output_type": "execute_result"
    }
   ],
   "source": [
    "a"
   ]
  },
  {
   "cell_type": "code",
   "execution_count": 62,
   "metadata": {},
   "outputs": [],
   "source": [
    "prices = pd.read_csv('../data/prices.csv', index_col=0, parse_dates=True)\n",
    "prices = prices.loc[\"2023-1-1\":\"2023-1-3\"]"
   ]
  },
  {
   "cell_type": "code",
   "execution_count": 63,
   "metadata": {},
   "outputs": [
    {
     "data": {
      "text/html": [
       "<div>\n",
       "<style scoped>\n",
       "    .dataframe tbody tr th:only-of-type {\n",
       "        vertical-align: middle;\n",
       "    }\n",
       "\n",
       "    .dataframe tbody tr th {\n",
       "        vertical-align: top;\n",
       "    }\n",
       "\n",
       "    .dataframe thead th {\n",
       "        text-align: right;\n",
       "    }\n",
       "</style>\n",
       "<table border=\"1\" class=\"dataframe\">\n",
       "  <thead>\n",
       "    <tr style=\"text-align: right;\">\n",
       "      <th></th>\n",
       "      <th>lmp</th>\n",
       "    </tr>\n",
       "  </thead>\n",
       "  <tbody>\n",
       "    <tr>\n",
       "      <th>2023-01-01 00:00:00+00:00</th>\n",
       "      <td>178.25868</td>\n",
       "    </tr>\n",
       "    <tr>\n",
       "      <th>2023-01-01 00:15:00+00:00</th>\n",
       "      <td>189.68090</td>\n",
       "    </tr>\n",
       "    <tr>\n",
       "      <th>2023-01-01 00:30:00+00:00</th>\n",
       "      <td>189.77493</td>\n",
       "    </tr>\n",
       "    <tr>\n",
       "      <th>2023-01-01 00:45:00+00:00</th>\n",
       "      <td>187.67822</td>\n",
       "    </tr>\n",
       "    <tr>\n",
       "      <th>2023-01-01 01:00:00+00:00</th>\n",
       "      <td>179.11215</td>\n",
       "    </tr>\n",
       "    <tr>\n",
       "      <th>...</th>\n",
       "      <td>...</td>\n",
       "    </tr>\n",
       "    <tr>\n",
       "      <th>2023-01-03 22:45:00+00:00</th>\n",
       "      <td>147.97934</td>\n",
       "    </tr>\n",
       "    <tr>\n",
       "      <th>2023-01-03 23:00:00+00:00</th>\n",
       "      <td>130.03027</td>\n",
       "    </tr>\n",
       "    <tr>\n",
       "      <th>2023-01-03 23:15:00+00:00</th>\n",
       "      <td>140.50507</td>\n",
       "    </tr>\n",
       "    <tr>\n",
       "      <th>2023-01-03 23:30:00+00:00</th>\n",
       "      <td>146.71844</td>\n",
       "    </tr>\n",
       "    <tr>\n",
       "      <th>2023-01-03 23:45:00+00:00</th>\n",
       "      <td>169.69150</td>\n",
       "    </tr>\n",
       "  </tbody>\n",
       "</table>\n",
       "<p>288 rows × 1 columns</p>\n",
       "</div>"
      ],
      "text/plain": [
       "                                 lmp\n",
       "2023-01-01 00:00:00+00:00  178.25868\n",
       "2023-01-01 00:15:00+00:00  189.68090\n",
       "2023-01-01 00:30:00+00:00  189.77493\n",
       "2023-01-01 00:45:00+00:00  187.67822\n",
       "2023-01-01 01:00:00+00:00  179.11215\n",
       "...                              ...\n",
       "2023-01-03 22:45:00+00:00  147.97934\n",
       "2023-01-03 23:00:00+00:00  130.03027\n",
       "2023-01-03 23:15:00+00:00  140.50507\n",
       "2023-01-03 23:30:00+00:00  146.71844\n",
       "2023-01-03 23:45:00+00:00  169.69150\n",
       "\n",
       "[288 rows x 1 columns]"
      ]
     },
     "execution_count": 63,
     "metadata": {},
     "output_type": "execute_result"
    }
   ],
   "source": [
    "prices.iloc"
   ]
  },
  {
   "cell_type": "code",
   "execution_count": null,
   "metadata": {},
   "outputs": [],
   "source": []
  }
 ],
 "metadata": {
  "kernelspec": {
   "display_name": "RA_bis",
   "language": "python",
   "name": "python3"
  },
  "language_info": {
   "codemirror_mode": {
    "name": "ipython",
    "version": 3
   },
   "file_extension": ".py",
   "mimetype": "text/x-python",
   "name": "python",
   "nbconvert_exporter": "python",
   "pygments_lexer": "ipython3",
   "version": "3.11.6"
  }
 },
 "nbformat": 4,
 "nbformat_minor": 2
}
