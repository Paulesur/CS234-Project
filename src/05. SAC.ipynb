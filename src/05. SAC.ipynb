{
 "cells": [
  {
   "cell_type": "code",
   "execution_count": null,
   "metadata": {},
   "outputs": [],
   "source": [
    "%matplotlib inline\n",
    "%load_ext autoreload\n",
    "%autoreload 2"
   ]
  },
  {
   "cell_type": "code",
   "execution_count": null,
   "metadata": {},
   "outputs": [],
   "source": [
    "import numpy as np\n",
    "import pandas as pd\n",
    "import matplotlib.pyplot as plt\n",
    "import viz\n",
    "\n",
    "COLORS, PAGE_WIDTH, ROW_HEIGHT = viz.set_plots()\n",
    "\n",
    "\n",
    "def rolling_mean(data, window_size):\n",
    "    return np.convolve(data, np.ones(window_size) / window_size, mode=\"valid\")"
   ]
  },
  {
   "cell_type": "code",
   "execution_count": null,
   "metadata": {},
   "outputs": [],
   "source": [
    "prices = pd.read_csv(\"../data/prices.csv\", index_col=0, parse_dates=True)\n",
    "prices2023 = prices.loc[f\"2023-01-01\":f\"2023-01-31\"].lmp"
   ]
  },
  {
   "cell_type": "code",
   "execution_count": null,
   "metadata": {},
   "outputs": [],
   "source": [
    "f, ax = plt.subplots(1, 1, figsize=(PAGE_WIDTH, ROW_HEIGHT))\n",
    "prices2023.plot(ax=ax)\n",
    "ax.set_title(\"2023 LMP\")\n",
    "ax.set_ylabel(\"LMP ($/MWh)\")\n",
    "plt.show()"
   ]
  },
  {
   "cell_type": "code",
   "execution_count": null,
   "metadata": {},
   "outputs": [],
   "source": [
    "# from sacRun import main as sacRun\n",
    "# sacRun(nYears=None, nMonths = 5, month= [1], test = 1, ep=800)"
   ]
  },
  {
   "cell_type": "code",
   "execution_count": null,
   "metadata": {},
   "outputs": [],
   "source": [
    "scores = np.load(\"SACResults/scores.npy\")\n",
    "\n",
    "f, ax = plt.subplots(1, 1, figsize=(PAGE_WIDTH, ROW_HEIGHT))\n",
    "ax.plot(scores)\n",
    "ax.plot(rolling_mean(scores, 10))\n",
    "ax.set_title(\"SAC Scores\")\n",
    "ax.set_ylabel(\"Score\")\n",
    "plt.show()"
   ]
  },
  {
   "cell_type": "code",
   "execution_count": null,
   "metadata": {},
   "outputs": [],
   "source": [
    "history = pd.read_csv(\"SACResults/sac_history.csv\", index_col=0, parse_dates=True)\n",
    "\n",
    "START, END = \"2023-01-01\", \"2023-01-25\"\n",
    "\n",
    "viz.plotOperations(history, START, END, save_path=\"SACResults/policy.png\")"
   ]
  },
  {
   "cell_type": "code",
   "execution_count": null,
   "metadata": {},
   "outputs": [],
   "source": [
    "from softActorCritic import SAC\n",
    "\n",
    "from tqdm import tqdm\n",
    "\n",
    "rewards = []\n",
    "max_power = []\n",
    "for _ in tqdm(range(1000)):\n",
    "    PolicyPPO = SAC([])\n",
    "    pricesTest = pd.concat([prices2023[-4:], prices2023])\n",
    "    history = PolicyPPO.test(pricesTest)\n",
    "    rewards.append(history.reward.sum())\n",
    "    max_power.append(history.load.max())\n",
    "    # print(history.reward.sum())\n",
    "\n",
    "print(\"Reward Metrics: \", np.mean(rewards), \"$\")\n",
    "print(\"Max Power Metrics: \", np.mean(max_power), \"MW\")"
   ]
  },
  {
   "cell_type": "code",
   "execution_count": null,
   "metadata": {},
   "outputs": [],
   "source": [
    "print(\"Std Reward Metrics: \", np.std(rewards), \"$\")\n",
    "print(\"Std Max Power Metrics: \", np.std(max_power), \"MW\")"
   ]
  },
  {
   "cell_type": "code",
   "execution_count": null,
   "metadata": {},
   "outputs": [],
   "source": []
  }
 ],
 "metadata": {
  "kernelspec": {
   "display_name": "RA_bis",
   "language": "python",
   "name": "python3"
  },
  "language_info": {
   "codemirror_mode": {
    "name": "ipython",
    "version": 3
   },
   "file_extension": ".py",
   "mimetype": "text/x-python",
   "name": "python",
   "nbconvert_exporter": "python",
   "pygments_lexer": "ipython3",
   "version": "3.11.6"
  }
 },
 "nbformat": 4,
 "nbformat_minor": 2
}
