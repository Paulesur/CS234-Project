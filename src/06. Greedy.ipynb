{
 "cells": [
  {
   "cell_type": "code",
   "execution_count": null,
   "metadata": {},
   "outputs": [],
   "source": [
    "%matplotlib inline\n",
    "%load_ext autoreload\n",
    "%autoreload 2"
   ]
  },
  {
   "cell_type": "code",
   "execution_count": null,
   "metadata": {},
   "outputs": [],
   "source": [
    "import numpy as np\n",
    "import pandas as pd\n",
    "import matplotlib.pyplot as plt\n",
    "import viz\n",
    "from greedyPolicy import GreedyPolicy\n",
    "\n",
    "\n",
    "COLORS, PAGE_WIDTH, ROW_HEIGHT = viz.set_plots()"
   ]
  },
  {
   "cell_type": "code",
   "execution_count": null,
   "metadata": {},
   "outputs": [],
   "source": [
    "prices = pd.read_csv(\"../data/prices.csv\", index_col=0, parse_dates=True)\n",
    "prices2023 = prices.loc[f\"2023-01-01\":f\"2023-01-31\"].lmp"
   ]
  },
  {
   "cell_type": "code",
   "execution_count": null,
   "metadata": {},
   "outputs": [],
   "source": [
    "f, ax = plt.subplots(1, 1, figsize=(PAGE_WIDTH, ROW_HEIGHT))\n",
    "prices2023.plot(ax=ax)\n",
    "ax.set_title(\"2023 LMP\")\n",
    "ax.set_ylabel(\"LMP ($/MWh)\")\n",
    "plt.show()"
   ]
  },
  {
   "cell_type": "code",
   "execution_count": null,
   "metadata": {},
   "outputs": [],
   "source": [
    "# Run the greedy algorithm:\n",
    "from tqdm import tqdm\n",
    "\n",
    "MonthlyRewards = []\n",
    "Max_Power = []\n",
    "for _ in tqdm(range(100)):\n",
    "    prices = prices2023.copy()\n",
    "    prices = pd.concat([prices[-4:], prices])\n",
    "    greedy = GreedyPolicy(prices2023)\n",
    "    greedy.run()\n",
    "    MonthlyRewards.append(round(greedy.station.history.reward.sum() / 1e3, 2))\n",
    "    Max_Power.append(greedy.station.history.load.max())\n",
    "\n",
    "print(\"Reward Metrics: \", np.mean(MonthlyRewards), \"$\")\n",
    "print(\"Max Power Metrics: \", np.mean(Max_Power), \"MW\")"
   ]
  },
  {
   "cell_type": "code",
   "execution_count": null,
   "metadata": {},
   "outputs": [],
   "source": [
    "print(\"Total Benefits:\", round(np.mean(MonthlyRewards), 2), \"k$\")"
   ]
  },
  {
   "cell_type": "code",
   "execution_count": null,
   "metadata": {},
   "outputs": [],
   "source": [
    "START, END = \"2023-01-01\", \"2023-01-31\"\n",
    "\n",
    "viz.plotOperations(\n",
    "    greedy.station.history, START, END, save_path=\"GreedyResults/greedy_policy.png\"\n",
    ")"
   ]
  },
  {
   "cell_type": "code",
   "execution_count": null,
   "metadata": {},
   "outputs": [],
   "source": [
    "greedy.station.history.load.max()"
   ]
  },
  {
   "cell_type": "code",
   "execution_count": null,
   "metadata": {},
   "outputs": [],
   "source": []
  }
 ],
 "metadata": {
  "kernelspec": {
   "display_name": "RA_bis",
   "language": "python",
   "name": "python3"
  },
  "language_info": {
   "codemirror_mode": {
    "name": "ipython",
    "version": 3
   },
   "file_extension": ".py",
   "mimetype": "text/x-python",
   "name": "python",
   "nbconvert_exporter": "python",
   "pygments_lexer": "ipython3",
   "version": "3.11.6"
  }
 },
 "nbformat": 4,
 "nbformat_minor": 2
}
