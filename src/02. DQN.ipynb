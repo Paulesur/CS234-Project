{
 "cells": [
  {
   "cell_type": "code",
   "execution_count": null,
   "metadata": {},
   "outputs": [],
   "source": [
    "%matplotlib inline\n",
    "%load_ext autoreload\n",
    "%autoreload 2"
   ]
  },
  {
   "cell_type": "code",
   "execution_count": null,
   "metadata": {},
   "outputs": [],
   "source": [
    "import numpy as np\n",
    "import pandas as pd\n",
    "import matplotlib.pyplot as plt\n",
    "import viz\n",
    "\n",
    "COLORS, PAGE_WIDTH, ROW_HEIGHT = viz.set_plots()\n",
    "\n",
    "\n",
    "# rolling mean in numpy:\n",
    "\n",
    "\n",
    "def rolling_mean(data, window_size):\n",
    "    return np.convolve(data, np.ones(window_size) / window_size, mode=\"valid\")"
   ]
  },
  {
   "cell_type": "code",
   "execution_count": null,
   "metadata": {},
   "outputs": [],
   "source": [
    "prices = pd.read_csv(\"../data/prices.csv\", index_col=0, parse_dates=True)\n",
    "prices2023 = prices.loc[f\"2023-01-01\":f\"2023-01-31\"].lmp"
   ]
  },
  {
   "cell_type": "code",
   "execution_count": null,
   "metadata": {},
   "outputs": [],
   "source": [
    "f, ax = plt.subplots(1, 1, figsize=(PAGE_WIDTH, ROW_HEIGHT))\n",
    "prices2023.plot(ax=ax)\n",
    "ax.set_title(\"2023 LMP\")\n",
    "ax.set_ylabel(\"LMP ($/MWh)\")\n",
    "plt.show()"
   ]
  },
  {
   "cell_type": "code",
   "execution_count": null,
   "metadata": {},
   "outputs": [],
   "source": [
    "# from dqnRun import main as dqnMain\n",
    "\n",
    "# dqnMain(nYears=None, nMonths=40, nDays=None, month=[1], test=1)"
   ]
  },
  {
   "cell_type": "code",
   "execution_count": null,
   "metadata": {},
   "outputs": [],
   "source": [
    "losses, rewards = np.load(\"DQNResults/dqn_losses.npy\"), np.load(\n",
    "    \"DQNResults/dqn_rewards.npy\"\n",
    ")\n",
    "f, ax = plt.subplots(2, 1, figsize=(PAGE_WIDTH, 2 * ROW_HEIGHT))\n",
    "ax[0].plot(rewards[:], label=\"Reward\")\n",
    "ax[0].plot(rolling_mean(rewards, 10)[:], label=\"Rolling Mean\")\n",
    "ax[0].set_title(\"DQN Training Rewards\")\n",
    "ax[0].set_xlabel(\"Epoch\")\n",
    "ax[0].set_ylabel(\"Loss\")\n",
    "\n",
    "ax[1].plot(losses[:], label=\"Loss\")\n",
    "ax[1].plot(rolling_mean(losses, 10)[:], label=\"Rolling Mean\")\n",
    "ax[1].set_title(\"DQN Training Loss\")\n",
    "ax[1].set_xlabel(\"Epoch\")\n",
    "ax[1].set_ylabel(\"Loss\")\n",
    "\n",
    "plt.tight_layout()\n",
    "plt.savefig(\"DQNResults/dqn_rewards.png\")\n",
    "plt.show()"
   ]
  },
  {
   "cell_type": "code",
   "execution_count": null,
   "metadata": {},
   "outputs": [],
   "source": [
    "history = pd.read_csv(\"DQNResults/dqn_history.csv\", index_col=0, parse_dates=True)\n",
    "\n",
    "START, END = \"2023-01-01\", \"2023-01-25\"\n",
    "\n",
    "viz.plotOperations(history, START, END, save_path=\"DQNResults/policy.png\")"
   ]
  },
  {
   "cell_type": "code",
   "execution_count": null,
   "metadata": {},
   "outputs": [],
   "source": [
    "from DQNPolicy import DQNPolicy\n",
    "from tqdm import tqdm\n",
    "\n",
    "rewards = []\n",
    "max_power = []\n",
    "for _ in tqdm(range(1)):\n",
    "    policy = DQNPolicy(\n",
    "        [], pricesTest=prices2023, network_dict=\"DQNResults/dqn_model.pth\"\n",
    "    )\n",
    "    history = policy.run(prices2023)\n",
    "    rewards.append(history.reward.sum())\n",
    "    max_power.append(history.load.max())\n",
    "    # print(history.reward.sum())\n",
    "\n",
    "print(\"Reward Metrics: \", np.mean(rewards), \"$\")\n",
    "print(\"Max Power Metrics: \", np.mean(max_power), \"MW\")"
   ]
  },
  {
   "cell_type": "code",
   "execution_count": null,
   "metadata": {},
   "outputs": [],
   "source": [
    "START, END = \"2023-01-01\", \"2023-01-25\"\n",
    "\n",
    "viz.plotOperations(history, START, END, save_path=\"DQNResults/policy.png\")"
   ]
  },
  {
   "cell_type": "code",
   "execution_count": null,
   "metadata": {},
   "outputs": [],
   "source": []
  }
 ],
 "metadata": {
  "kernelspec": {
   "display_name": "RA_bis",
   "language": "python",
   "name": "python3"
  },
  "language_info": {
   "codemirror_mode": {
    "name": "ipython",
    "version": 3
   },
   "file_extension": ".py",
   "mimetype": "text/x-python",
   "name": "python",
   "nbconvert_exporter": "python",
   "pygments_lexer": "ipython3",
   "version": "3.11.6"
  }
 },
 "nbformat": 4,
 "nbformat_minor": 2
}
